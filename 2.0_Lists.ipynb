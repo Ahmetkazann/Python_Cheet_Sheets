{
  "nbformat": 4,
  "nbformat_minor": 0,
  "metadata": {
    "colab": {
      "provenance": []
    },
    "kernelspec": {
      "name": "python3",
      "display_name": "Python 3"
    },
    "language_info": {
      "name": "python"
    }
  },
  "cells": [
    {
      "cell_type": "markdown",
      "source": [
        "Data Structures\n",
        "\n",
        "*   Lists\n",
        "*   Tuples\n",
        "*   Sets\n",
        "*   Dictionaries"
      ],
      "metadata": {
        "id": "ub25-cKfQM2c"
      }
    },
    {
      "cell_type": "code",
      "source": [
        "list = [1,2,3,4,5]\n",
        "print(list)\n",
        "print(type(list))"
      ],
      "metadata": {
        "colab": {
          "base_uri": "https://localhost:8080/"
        },
        "id": "lz-rY-W0QfI0",
        "outputId": "e2da182f-48db-4bc3-e991-74ab337704ba"
      },
      "execution_count": 1,
      "outputs": [
        {
          "output_type": "stream",
          "name": "stdout",
          "text": [
            "[1, 2, 3, 4, 5]\n",
            "<class 'list'>\n"
          ]
        }
      ]
    },
    {
      "cell_type": "code",
      "source": [
        "names = [\"Ahmet\", \"123\", \"Emin\"]\n",
        "print(names)"
      ],
      "metadata": {
        "colab": {
          "base_uri": "https://localhost:8080/"
        },
        "id": "RZUMqEKVQfOr",
        "outputId": "0a031710-6b2a-4a32-80cf-6eca5db32e40"
      },
      "execution_count": 2,
      "outputs": [
        {
          "output_type": "stream",
          "name": "stdout",
          "text": [
            "['Ahmet', '123', 'Emin']\n"
          ]
        }
      ]
    },
    {
      "cell_type": "code",
      "execution_count": 3,
      "metadata": {
        "colab": {
          "base_uri": "https://localhost:8080/"
        },
        "id": "UcGYfxlRQMfm",
        "outputId": "590fbde6-475e-45dc-8f9c-6f0c0e70e2d2"
      },
      "outputs": [
        {
          "output_type": "stream",
          "name": "stdout",
          "text": [
            "[1, 'Helloworld', 3.14, True]\n",
            "<class 'list'>\n"
          ]
        }
      ],
      "source": [
        "mixed_list = [1, \"Helloworld\", 3.14, True]\n",
        "print(mixed_list)\n",
        "print(type(mixed_list))"
      ]
    },
    {
      "cell_type": "code",
      "source": [
        "# Accesing List Elements\n",
        "fruits = [\"Apple\", \"Banana\", \"Tomato\", \"Portugal\", \"Kiwi\", \"Watermelon\"]\n",
        "print(fruits[0])\n",
        "print(fruits[3])\n",
        "print(fruits[-1]) # similar doubly linked list"
      ],
      "metadata": {
        "colab": {
          "base_uri": "https://localhost:8080/"
        },
        "id": "30ZDBfEBRdQc",
        "outputId": "8d3415d8-b173-4c7d-f407-be5a05f4727e"
      },
      "execution_count": 33,
      "outputs": [
        {
          "output_type": "stream",
          "name": "stdout",
          "text": [
            "Apple\n",
            "Portugal\n",
            "Watermelon\n"
          ]
        }
      ]
    },
    {
      "cell_type": "code",
      "source": [
        "print(fruits[1:])\n",
        "print(fruits[1:3]) # start, end,\n",
        "print(fruits[-1:])\n",
        "print(fruits[-3:])\n"
      ],
      "metadata": {
        "colab": {
          "base_uri": "https://localhost:8080/"
        },
        "id": "3qZVcsBGRdSb",
        "outputId": "f0b89fcb-b590-4855-c7d9-f8678e3e99d5"
      },
      "execution_count": 5,
      "outputs": [
        {
          "output_type": "stream",
          "name": "stdout",
          "text": [
            "['Banana', 'Tomato', 'Portugal', 'Kiwi', 'Watermelon']\n",
            "['Banana', 'Tomato']\n",
            "['Watermelon']\n",
            "['Portugal', 'Kiwi', 'Watermelon']\n"
          ]
        }
      ]
    },
    {
      "cell_type": "code",
      "source": [
        "fruits[1:] = \"Watermelon\""
      ],
      "metadata": {
        "id": "Dh9YuwrcRdUD"
      },
      "execution_count": 6,
      "outputs": []
    },
    {
      "cell_type": "code",
      "source": [
        "fruits"
      ],
      "metadata": {
        "colab": {
          "base_uri": "https://localhost:8080/"
        },
        "id": "88aUtOQjRdV1",
        "outputId": "e9c0ac15-fa2a-4db3-90bc-863e148a75d9"
      },
      "execution_count": 7,
      "outputs": [
        {
          "output_type": "execute_result",
          "data": {
            "text/plain": [
              "['Apple', 'W', 'a', 't', 'e', 'r', 'm', 'e', 'l', 'o', 'n']"
            ]
          },
          "metadata": {},
          "execution_count": 7
        }
      ]
    },
    {
      "cell_type": "code",
      "source": [
        "fruits = [\"Apple\", \"Banana\", \"Tomato\", \"Portugal\", \"Kiwi\", \"Watermelon\"]"
      ],
      "metadata": {
        "id": "k8tMqtJhRdXr"
      },
      "execution_count": 8,
      "outputs": []
    },
    {
      "cell_type": "code",
      "source": [
        "fruits.append(\"Orange\")"
      ],
      "metadata": {
        "id": "rRcLLigRTlaT"
      },
      "execution_count": 9,
      "outputs": []
    },
    {
      "cell_type": "code",
      "source": [
        "fruits"
      ],
      "metadata": {
        "colab": {
          "base_uri": "https://localhost:8080/"
        },
        "id": "Ubp8_RBBTlca",
        "outputId": "acff3122-5201-4a98-9e3b-9499f97af65b"
      },
      "execution_count": 10,
      "outputs": [
        {
          "output_type": "execute_result",
          "data": {
            "text/plain": [
              "['Apple', 'Banana', 'Tomato', 'Portugal', 'Kiwi', 'Watermelon', 'Orange']"
            ]
          },
          "metadata": {},
          "execution_count": 10
        }
      ]
    },
    {
      "cell_type": "code",
      "source": [
        "fruits.insert(1,\"Strawberry\") # add to specific index"
      ],
      "metadata": {
        "id": "zej50K0vT_18"
      },
      "execution_count": 11,
      "outputs": []
    },
    {
      "cell_type": "code",
      "source": [
        "fruits"
      ],
      "metadata": {
        "colab": {
          "base_uri": "https://localhost:8080/"
        },
        "id": "W5Hr_f94T_37",
        "outputId": "1fcbb03c-0b59-40a7-b66f-361a8932d815"
      },
      "execution_count": 12,
      "outputs": [
        {
          "output_type": "execute_result",
          "data": {
            "text/plain": [
              "['Apple',\n",
              " 'Strawberry',\n",
              " 'Banana',\n",
              " 'Tomato',\n",
              " 'Portugal',\n",
              " 'Kiwi',\n",
              " 'Watermelon',\n",
              " 'Orange']"
            ]
          },
          "metadata": {},
          "execution_count": 12
        }
      ]
    },
    {
      "cell_type": "code",
      "source": [
        "fruits.remove(\"Banana\")"
      ],
      "metadata": {
        "id": "X5pKR5POUHcV"
      },
      "execution_count": 13,
      "outputs": []
    },
    {
      "cell_type": "code",
      "source": [
        "fruits"
      ],
      "metadata": {
        "colab": {
          "base_uri": "https://localhost:8080/"
        },
        "id": "p0T-_Zj2UHeT",
        "outputId": "1cc2903f-e9d7-4a97-9a09-ad8f73b60917"
      },
      "execution_count": 14,
      "outputs": [
        {
          "output_type": "execute_result",
          "data": {
            "text/plain": [
              "['Apple', 'Strawberry', 'Tomato', 'Portugal', 'Kiwi', 'Watermelon', 'Orange']"
            ]
          },
          "metadata": {},
          "execution_count": 14
        }
      ]
    },
    {
      "cell_type": "code",
      "source": [
        "popped_fruits = fruits.pop()"
      ],
      "metadata": {
        "id": "mytBsvyt0L1Z"
      },
      "execution_count": 15,
      "outputs": []
    },
    {
      "cell_type": "code",
      "source": [
        "print(popped_fruits)"
      ],
      "metadata": {
        "colab": {
          "base_uri": "https://localhost:8080/"
        },
        "id": "4q8KpDZw0MRx",
        "outputId": "2d7294b2-5a2e-49fc-96c8-17559c93c509"
      },
      "execution_count": 16,
      "outputs": [
        {
          "output_type": "stream",
          "name": "stdout",
          "text": [
            "Orange\n"
          ]
        }
      ]
    },
    {
      "cell_type": "code",
      "source": [
        "fruits.index(\"Tomato\")"
      ],
      "metadata": {
        "colab": {
          "base_uri": "https://localhost:8080/"
        },
        "id": "vsSwYtcV0MUK",
        "outputId": "e5fecb16-1c92-4cec-e40a-6f73f9f12c23"
      },
      "execution_count": 17,
      "outputs": [
        {
          "output_type": "execute_result",
          "data": {
            "text/plain": [
              "2"
            ]
          },
          "metadata": {},
          "execution_count": 17
        }
      ]
    },
    {
      "cell_type": "code",
      "source": [
        "fruits.insert(2,\"Banana\")"
      ],
      "metadata": {
        "id": "LPPDzD1M0MWI"
      },
      "execution_count": 18,
      "outputs": []
    },
    {
      "cell_type": "code",
      "source": [
        "fruits.count(\"Banana\")"
      ],
      "metadata": {
        "colab": {
          "base_uri": "https://localhost:8080/"
        },
        "id": "38NyY_kQ0MYJ",
        "outputId": "f720ae25-1410-4d90-bbd2-e27e5130f7e8"
      },
      "execution_count": 20,
      "outputs": [
        {
          "output_type": "execute_result",
          "data": {
            "text/plain": [
              "1"
            ]
          },
          "metadata": {},
          "execution_count": 20
        }
      ]
    },
    {
      "cell_type": "code",
      "source": [
        "print(fruits)\n",
        "fruits.reverse() #reverse the list"
      ],
      "metadata": {
        "colab": {
          "base_uri": "https://localhost:8080/"
        },
        "id": "q8OmvN1Y0Mag",
        "outputId": "2fdf253d-b95c-4dbc-b355-4d08c312c33a"
      },
      "execution_count": 25,
      "outputs": [
        {
          "output_type": "stream",
          "name": "stdout",
          "text": [
            "['Apple', 'Strawberry', 'Banana', 'Tomato', 'Portugal', 'Kiwi', 'Watermelon']\n"
          ]
        }
      ]
    },
    {
      "cell_type": "code",
      "source": [
        "fruits"
      ],
      "metadata": {
        "colab": {
          "base_uri": "https://localhost:8080/"
        },
        "id": "Zac6m8Tb0rfL",
        "outputId": "adb64040-c411-4e24-e5cd-ec84575bb8c3"
      },
      "execution_count": 26,
      "outputs": [
        {
          "output_type": "execute_result",
          "data": {
            "text/plain": [
              "['Watermelon', 'Kiwi', 'Portugal', 'Tomato', 'Banana', 'Strawberry', 'Apple']"
            ]
          },
          "metadata": {},
          "execution_count": 26
        }
      ]
    },
    {
      "cell_type": "code",
      "source": [
        "fruits.clear() # Removes all items in the list"
      ],
      "metadata": {
        "id": "nWVy8g8w0rhh"
      },
      "execution_count": 27,
      "outputs": []
    },
    {
      "cell_type": "code",
      "source": [
        "# Slicing Lists"
      ],
      "metadata": {
        "id": "jnZo2FMb0rmK"
      },
      "execution_count": null,
      "outputs": []
    },
    {
      "cell_type": "code",
      "source": [
        "numbers = [1, 2, 3, 4, 5, 6, 7, 8, 9]\n",
        "print(numbers[2:5])\n",
        "print(numbers[:5])\n",
        "print(numbers[5:])\n",
        "print(numbers[::2])\n",
        "print(numbers[::-1]) # start, end, step"
      ],
      "metadata": {
        "colab": {
          "base_uri": "https://localhost:8080/"
        },
        "id": "su2KeJ770roJ",
        "outputId": "5bdc0087-917c-4a67-cde6-379b675b2580"
      },
      "execution_count": 30,
      "outputs": [
        {
          "output_type": "stream",
          "name": "stdout",
          "text": [
            "[3, 4, 5]\n",
            "[1, 2, 3, 4, 5]\n",
            "[6, 7, 8, 9]\n",
            "[1, 3, 5, 7, 9]\n",
            "[9, 8, 7, 6, 5, 4, 3, 2, 1]\n"
          ]
        }
      ]
    },
    {
      "cell_type": "code",
      "source": [
        "## Iterating Over List\n",
        "\n",
        "for index,number in enumerate(numbers):\n",
        "    print(f\"{index}. = {number}\")"
      ],
      "metadata": {
        "colab": {
          "base_uri": "https://localhost:8080/"
        },
        "id": "iul84b4t0rqS",
        "outputId": "ec7753e8-6c9f-45af-ad5e-ff57dfb48d48"
      },
      "execution_count": 39,
      "outputs": [
        {
          "output_type": "stream",
          "name": "stdout",
          "text": [
            "0. = 1\n",
            "1. = 2\n",
            "2. = 3\n",
            "3. = 4\n",
            "4. = 5\n",
            "5. = 6\n",
            "6. = 7\n",
            "7. = 8\n",
            "8. = 9\n"
          ]
        }
      ]
    },
    {
      "cell_type": "code",
      "source": [
        "# List comprehension\n",
        "lst = []\n",
        "for x in range(5):\n",
        "    lst.append(x**2)\n",
        "print(lst)"
      ],
      "metadata": {
        "colab": {
          "base_uri": "https://localhost:8080/"
        },
        "id": "kVjf0mYn0rsa",
        "outputId": "853395df-ce7c-47cb-9481-f54347e7747f"
      },
      "execution_count": 40,
      "outputs": [
        {
          "output_type": "stream",
          "name": "stdout",
          "text": [
            "[0, 1, 4, 9, 16]\n"
          ]
        }
      ]
    },
    {
      "cell_type": "code",
      "source": [
        "lst = [x**2 for x in range(10)]\n",
        "lst"
      ],
      "metadata": {
        "colab": {
          "base_uri": "https://localhost:8080/"
        },
        "id": "96yk2NOV0ruR",
        "outputId": "c9fdfd63-e120-4eb2-c4be-b7d508cd7550"
      },
      "execution_count": 43,
      "outputs": [
        {
          "output_type": "execute_result",
          "data": {
            "text/plain": [
              "[0, 1, 4, 9, 16, 25, 36, 49, 64, 81]"
            ]
          },
          "metadata": {},
          "execution_count": 43
        }
      ]
    },
    {
      "cell_type": "markdown",
      "source": [
        "Basic syntax [expression for item in iterable]\n",
        "\n",
        "with conditional logic [expression for item in iterable if condition]\n",
        "\n"
      ],
      "metadata": {
        "id": "HfN6CR8M8iSm"
      }
    },
    {
      "cell_type": "code",
      "source": [
        "square = [x*2 for x in range(10) if x % 2 == 1]\n",
        "square"
      ],
      "metadata": {
        "colab": {
          "base_uri": "https://localhost:8080/"
        },
        "id": "DtuhiPSh8UjP",
        "outputId": "367d9dda-2206-47e1-a49e-859929c25d5b"
      },
      "execution_count": 46,
      "outputs": [
        {
          "output_type": "execute_result",
          "data": {
            "text/plain": [
              "[2, 6, 10, 14, 18]"
            ]
          },
          "metadata": {},
          "execution_count": 46
        }
      ]
    },
    {
      "cell_type": "code",
      "source": [
        "lst1 = [1,2,3,4]\n",
        "lst2 = ['a', 'b', 'c', 'd']"
      ],
      "metadata": {
        "id": "ccbwnx6w8VAv"
      },
      "execution_count": 47,
      "outputs": []
    },
    {
      "cell_type": "code",
      "source": [
        "pair = [[i,j] for i in lst1 for j in lst2]"
      ],
      "metadata": {
        "id": "bKgmWRzdDat9"
      },
      "execution_count": 48,
      "outputs": []
    },
    {
      "cell_type": "code",
      "source": [
        "pair"
      ],
      "metadata": {
        "colab": {
          "base_uri": "https://localhost:8080/"
        },
        "id": "NqDMlvF9DawM",
        "outputId": "d10d903a-8804-4412-bf6b-d446ceaa7a8b"
      },
      "execution_count": 49,
      "outputs": [
        {
          "output_type": "execute_result",
          "data": {
            "text/plain": [
              "[[1, 'a'],\n",
              " [1, 'b'],\n",
              " [1, 'c'],\n",
              " [1, 'd'],\n",
              " [2, 'a'],\n",
              " [2, 'b'],\n",
              " [2, 'c'],\n",
              " [2, 'd'],\n",
              " [3, 'a'],\n",
              " [3, 'b'],\n",
              " [3, 'c'],\n",
              " [3, 'd'],\n",
              " [4, 'a'],\n",
              " [4, 'b'],\n",
              " [4, 'c'],\n",
              " [4, 'd']]"
            ]
          },
          "metadata": {},
          "execution_count": 49
        }
      ]
    },
    {
      "cell_type": "code",
      "source": [
        "words = [\"hello\", \"world\", \"python\", \"list\", \"comprehension\"]\n",
        "lengths = [len(word) for word in words]\n",
        "print(lengths)"
      ],
      "metadata": {
        "colab": {
          "base_uri": "https://localhost:8080/"
        },
        "id": "POjkZBzFDl7b",
        "outputId": "e0e4349c-2ccf-4ce4-9b25-1e3a34de654b"
      },
      "execution_count": 50,
      "outputs": [
        {
          "output_type": "stream",
          "name": "stdout",
          "text": [
            "[5, 5, 6, 4, 13]\n"
          ]
        }
      ]
    },
    {
      "cell_type": "code",
      "source": [],
      "metadata": {
        "id": "RcaMeXx1DmAU"
      },
      "execution_count": null,
      "outputs": []
    }
  ]
}