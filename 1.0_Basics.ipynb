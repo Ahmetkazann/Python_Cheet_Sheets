{
  "nbformat": 4,
  "nbformat_minor": 0,
  "metadata": {
    "colab": {
      "provenance": []
    },
    "kernelspec": {
      "name": "python3",
      "display_name": "Python 3"
    },
    "language_info": {
      "name": "python"
    }
  },
  "cells": [
    {
      "cell_type": "markdown",
      "source": [
        "\n",
        "\n",
        "*   Single line Comments and Multi line Comments\n",
        "*   Definition of Syntax and Semantics\n",
        "\n",
        "*   Basic Syntax and semantics in Python\n",
        "\n",
        "\n",
        "\n"
      ],
      "metadata": {
        "id": "U38O0juvh28z"
      }
    },
    {
      "cell_type": "code",
      "execution_count": 14,
      "metadata": {
        "colab": {
          "base_uri": "https://localhost:8080/",
          "height": 106
        },
        "id": "t2QW3hWvXLk9",
        "outputId": "bca798ac-050a-4d18-d978-f5dec0603e9c"
      },
      "outputs": [
        {
          "output_type": "error",
          "ename": "SyntaxError",
          "evalue": "incomplete input (<ipython-input-14-58c20cb2f12d>, line 7)",
          "traceback": [
            "\u001b[0;36m  File \u001b[0;32m\"<ipython-input-14-58c20cb2f12d>\"\u001b[0;36m, line \u001b[0;32m7\u001b[0m\n\u001b[0;31m    '''\u001b[0m\n\u001b[0m    ^\u001b[0m\n\u001b[0;31mSyntaxError\u001b[0m\u001b[0;31m:\u001b[0m incomplete input\n"
          ]
        }
      ],
      "source": [
        "\n",
        "\n",
        "## single line comment\n",
        "'''\n",
        "multiple line comment\n",
        "multiple line comment\n",
        "'''\n",
        "\n",
        "'''\n",
        "syntax :  the rules that control the structure of the symbols,\n",
        "punctuation, and words of a programming language\n",
        "\n",
        "semantic : It refers to the meaning associated with the statement in a programming language.\n",
        "It is all about the meaning of the statement which interprets the program easily.\n",
        "\n"
      ]
    },
    {
      "cell_type": "code",
      "source": [
        "# Case Sensitivity\n",
        "name = \"Ahmet\"\n",
        "Name = \"Emin\"\n",
        "\n",
        "print(name)\n",
        "print(Name)"
      ],
      "metadata": {
        "colab": {
          "base_uri": "https://localhost:8080/"
        },
        "id": "hdmzlC84XU4t",
        "outputId": "2631f0c5-f27f-4d6e-f493-88c8975c52a1"
      },
      "execution_count": 4,
      "outputs": [
        {
          "output_type": "stream",
          "name": "stdout",
          "text": [
            "Ahmet\n",
            "Emin\n"
          ]
        }
      ]
    },
    {
      "cell_type": "code",
      "source": [
        "#Python uses indentation to define blocks of code. Consistent use of spaces(commonly 4) or a tab is required.\n",
        "number = 10\n",
        "if number % 2 == 0:\n",
        "    print(\"even\")\n",
        "else:\n",
        "    print(\"odd\")"
      ],
      "metadata": {
        "colab": {
          "base_uri": "https://localhost:8080/"
        },
        "id": "-hhliq8Qc5DD",
        "outputId": "a0cbf5cc-3d82-451a-8dcf-591fdaed49f9"
      },
      "execution_count": 6,
      "outputs": [
        {
          "output_type": "stream",
          "name": "stdout",
          "text": [
            "even\n"
          ]
        }
      ]
    },
    {
      "cell_type": "code",
      "source": [
        "# Line Continuation\n",
        "total = 1 + 2 + 3 + \\\n",
        "+ 4\n",
        "print(total)"
      ],
      "metadata": {
        "colab": {
          "base_uri": "https://localhost:8080/"
        },
        "id": "22heT88hfP48",
        "outputId": "c5b24a59-abfe-4941-abf0-f29875b5063a"
      },
      "execution_count": 7,
      "outputs": [
        {
          "output_type": "stream",
          "name": "stdout",
          "text": [
            "10\n"
          ]
        }
      ]
    },
    {
      "cell_type": "code",
      "source": [
        "# Multiple Statements on a single line\n",
        "x=5;y=1;z=x+y\n",
        "print(z)"
      ],
      "metadata": {
        "colab": {
          "base_uri": "https://localhost:8080/"
        },
        "id": "POnbCDj6fZYj",
        "outputId": "38fdd237-9f8d-43da-f5c9-b5a772072c5c"
      },
      "execution_count": 8,
      "outputs": [
        {
          "output_type": "stream",
          "name": "stdout",
          "text": [
            "6\n"
          ]
        }
      ]
    },
    {
      "cell_type": "code",
      "source": [
        "# Semantics In Python\n",
        "# Dynamic typing\n",
        "age = 32 # age is an integer\n",
        "name = \"Ahmet\" # name is string\n",
        "type(age)\n"
      ],
      "metadata": {
        "colab": {
          "base_uri": "https://localhost:8080/"
        },
        "id": "t6qbIDxzfrmj",
        "outputId": "5f3ce154-3db1-4844-a22c-2e1f99ebe40b"
      },
      "execution_count": 10,
      "outputs": [
        {
          "output_type": "execute_result",
          "data": {
            "text/plain": [
              "int"
            ]
          },
          "metadata": {},
          "execution_count": 10
        }
      ]
    },
    {
      "cell_type": "code",
      "source": [
        "type(name)"
      ],
      "metadata": {
        "colab": {
          "base_uri": "https://localhost:8080/"
        },
        "id": "X1Fy5bamf_ZD",
        "outputId": "9d139358-f3b5-4586-f378-99306c1fa868"
      },
      "execution_count": 11,
      "outputs": [
        {
          "output_type": "execute_result",
          "data": {
            "text/plain": [
              "str"
            ]
          },
          "metadata": {},
          "execution_count": 11
        }
      ]
    },
    {
      "cell_type": "code",
      "source": [
        "## Type Inference\n",
        "variable = 1\n",
        "print(type(variable))\n",
        "variable = \"Ahmet\"\n",
        "print(type(variable))"
      ],
      "metadata": {
        "colab": {
          "base_uri": "https://localhost:8080/"
        },
        "id": "0YvdiXDyf_y7",
        "outputId": "00057139-8f50-4dea-8981-fbd572b77613"
      },
      "execution_count": 12,
      "outputs": [
        {
          "output_type": "stream",
          "name": "stdout",
          "text": [
            "<class 'int'>\n",
            "<class 'str'>\n"
          ]
        }
      ]
    },
    {
      "cell_type": "code",
      "source": [
        "## Code examples of indentation\n",
        "if True:\n",
        "    print(\"Correct Indentation\")\n",
        "    if False:\n",
        "        print(\"This wont print\")\n",
        "    print(\"print\")\n",
        "print(\"print\")"
      ],
      "metadata": {
        "colab": {
          "base_uri": "https://localhost:8080/"
        },
        "id": "VXgQf06Ngy_k",
        "outputId": "b72c1f0b-10c8-435a-e4f6-29a62b299ca4"
      },
      "execution_count": 13,
      "outputs": [
        {
          "output_type": "stream",
          "name": "stdout",
          "text": [
            "Correct Indentation\n",
            "print\n",
            "print\n"
          ]
        }
      ]
    },
    {
      "cell_type": "code",
      "source": [],
      "metadata": {
        "id": "RmCQ7UUegzIS"
      },
      "execution_count": null,
      "outputs": []
    }
  ]
}