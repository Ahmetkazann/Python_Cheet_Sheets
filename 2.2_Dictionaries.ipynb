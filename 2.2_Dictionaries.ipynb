{
  "nbformat": 4,
  "nbformat_minor": 0,
  "metadata": {
    "colab": {
      "provenance": []
    },
    "kernelspec": {
      "name": "python3",
      "display_name": "Python 3"
    },
    "language_info": {
      "name": "python"
    }
  },
  "cells": [
    {
      "cell_type": "markdown",
      "source": [
        "Dictionaries\n",
        "1. Creating\n",
        "2. Accesing\n",
        "3. Modifying\n",
        "4. Dicionary Methods\n",
        "5. Iterating over dictionaries\n",
        "6. Nested Dictioınaries\n",
        "7. Dictionary Comprehensions"
      ],
      "metadata": {
        "id": "sxGutWR8ZYY_"
      }
    },
    {
      "cell_type": "code",
      "execution_count": 1,
      "metadata": {
        "colab": {
          "base_uri": "https://localhost:8080/"
        },
        "id": "ddkBjNmBZTvw",
        "outputId": "ebd546a9-4e1e-4f6d-d1f8-f5c02d199b44"
      },
      "outputs": [
        {
          "output_type": "stream",
          "name": "stdout",
          "text": [
            "<class 'dict'>\n"
          ]
        }
      ],
      "source": [
        "##Creating Dictionaries\n",
        "empty_dict = {}\n",
        "print(type(empty_dict))\n"
      ]
    },
    {
      "cell_type": "code",
      "source": [
        "empty_dict = dict()\n",
        "empty_dict"
      ],
      "metadata": {
        "colab": {
          "base_uri": "https://localhost:8080/"
        },
        "id": "xtda-7fOZ0v4",
        "outputId": "78dc9bac-f1ec-4d62-b543-658f89b55cbf"
      },
      "execution_count": 2,
      "outputs": [
        {
          "output_type": "execute_result",
          "data": {
            "text/plain": [
              "{}"
            ]
          },
          "metadata": {},
          "execution_count": 2
        }
      ]
    },
    {
      "cell_type": "code",
      "source": [
        "student = {\"name\": \"Ahmet\", \"age\": 23, \"grade\": 24}\n",
        "print(student)\n",
        "print(type(student))"
      ],
      "metadata": {
        "colab": {
          "base_uri": "https://localhost:8080/"
        },
        "id": "7jYA5Zc_Z0xn",
        "outputId": "034eefbe-2a61-4e57-c8f8-f7c2ca98c389"
      },
      "execution_count": 23,
      "outputs": [
        {
          "output_type": "stream",
          "name": "stdout",
          "text": [
            "{'name': 'Ahmet', 'age': 23, 'grade': 24}\n",
            "<class 'dict'>\n"
          ]
        }
      ]
    },
    {
      "cell_type": "code",
      "source": [
        "# Error\n",
        "student = {\"name\": \"Ahmet\", \"age\": 23, \"name\": 24}\n",
        "print(student)"
      ],
      "metadata": {
        "colab": {
          "base_uri": "https://localhost:8080/"
        },
        "id": "pxHMjOi7Z0zf",
        "outputId": "3a46af1a-daf6-44dc-b242-639902cc09de"
      },
      "execution_count": 24,
      "outputs": [
        {
          "output_type": "stream",
          "name": "stdout",
          "text": [
            "{'name': 24, 'age': 23}\n"
          ]
        }
      ]
    },
    {
      "cell_type": "code",
      "source": [
        "## Accesing Dictionary Elements\n",
        "student = {\"name\": \"Ahmet\", \"age\": 23, \"grade\": 'AA'}\n",
        "print(student[\"name\"])"
      ],
      "metadata": {
        "colab": {
          "base_uri": "https://localhost:8080/"
        },
        "id": "yr1YjWSQZ01G",
        "outputId": "3687e112-90b8-405e-91b8-551bca0fd1b0"
      },
      "execution_count": 25,
      "outputs": [
        {
          "output_type": "stream",
          "name": "stdout",
          "text": [
            "Ahmet\n"
          ]
        }
      ]
    },
    {
      "cell_type": "code",
      "source": [
        "print(student['age'])"
      ],
      "metadata": {
        "colab": {
          "base_uri": "https://localhost:8080/"
        },
        "id": "6sMtSHl8Z02-",
        "outputId": "b09f21da-3d5d-4c31-e660-a5b7b588f78b"
      },
      "execution_count": 26,
      "outputs": [
        {
          "output_type": "stream",
          "name": "stdout",
          "text": [
            "23\n"
          ]
        }
      ]
    },
    {
      "cell_type": "code",
      "source": [
        "print(student.get('grade'))"
      ],
      "metadata": {
        "colab": {
          "base_uri": "https://localhost:8080/"
        },
        "id": "yl7dXxFxZ042",
        "outputId": "35f19918-014c-443f-b8b7-d1ea47e80f1d"
      },
      "execution_count": 27,
      "outputs": [
        {
          "output_type": "stream",
          "name": "stdout",
          "text": [
            "AA\n"
          ]
        }
      ]
    },
    {
      "cell_type": "code",
      "source": [
        "# Accesing using get() method\n",
        "print(student.get('grade'))\n",
        "print(student.get('last_name'))\n",
        "print(student.get('last_name', 'Not Found'))"
      ],
      "metadata": {
        "colab": {
          "base_uri": "https://localhost:8080/"
        },
        "id": "cdUeitjPZ06m",
        "outputId": "9d6efe61-de50-40c2-fbca-e8bf3f752be5"
      },
      "execution_count": 28,
      "outputs": [
        {
          "output_type": "stream",
          "name": "stdout",
          "text": [
            "AA\n",
            "None\n",
            "Not Found\n"
          ]
        }
      ]
    },
    {
      "cell_type": "code",
      "source": [
        "# Modifying Dictionary Elements\n",
        "# Dictionary are mutable. So you can, add, update or delete elements"
      ],
      "metadata": {
        "id": "_O-LsUdob7Qn"
      },
      "execution_count": 29,
      "outputs": []
    },
    {
      "cell_type": "code",
      "source": [
        "print(student)"
      ],
      "metadata": {
        "colab": {
          "base_uri": "https://localhost:8080/"
        },
        "id": "8BqMA2I0b7Sv",
        "outputId": "1a53ab12-9b5d-4add-8d6f-ce7f41e26486"
      },
      "execution_count": 30,
      "outputs": [
        {
          "output_type": "stream",
          "name": "stdout",
          "text": [
            "{'name': 'Ahmet', 'age': 23, 'grade': 'AA'}\n"
          ]
        }
      ]
    },
    {
      "cell_type": "code",
      "source": [
        "student['name'] = 'Ali'\n",
        "student['addresss'] = 'Turkey'\n",
        "print(student)"
      ],
      "metadata": {
        "colab": {
          "base_uri": "https://localhost:8080/"
        },
        "id": "36xhJWnzb7Un",
        "outputId": "226ad141-ab4d-453d-96f2-bdbdfa3169b7"
      },
      "execution_count": 31,
      "outputs": [
        {
          "output_type": "stream",
          "name": "stdout",
          "text": [
            "{'name': 'Ali', 'age': 23, 'grade': 'AA', 'addresss': 'Turkey'}\n"
          ]
        }
      ]
    },
    {
      "cell_type": "code",
      "source": [],
      "metadata": {
        "id": "Uuk7wgPCb7Wm"
      },
      "execution_count": 31,
      "outputs": []
    },
    {
      "cell_type": "code",
      "source": [
        "del student['grade']\n",
        "print(student)"
      ],
      "metadata": {
        "colab": {
          "base_uri": "https://localhost:8080/"
        },
        "id": "L5JL1Tu5b7Yn",
        "outputId": "5b8c7f91-6f17-4ab0-d99d-538693f98091"
      },
      "execution_count": 32,
      "outputs": [
        {
          "output_type": "stream",
          "name": "stdout",
          "text": [
            "{'name': 'Ali', 'age': 23, 'addresss': 'Turkey'}\n"
          ]
        }
      ]
    },
    {
      "cell_type": "code",
      "source": [
        "## Dictionary Methods\n",
        "keys = student.keys()\n",
        "print(keys)\n",
        "print(type(keys))\n",
        "values = student.values()\n",
        "print(values)\n",
        "print(type(values))"
      ],
      "metadata": {
        "colab": {
          "base_uri": "https://localhost:8080/"
        },
        "id": "hCfuRHqlb7an",
        "outputId": "c92aa386-bf81-448e-f614-43e36c50c0ef"
      },
      "execution_count": 35,
      "outputs": [
        {
          "output_type": "stream",
          "name": "stdout",
          "text": [
            "dict_keys(['name', 'age', 'addresss'])\n",
            "<class 'dict_keys'>\n",
            "dict_values(['Ali', 23, 'Turkey'])\n",
            "<class 'dict_values'>\n"
          ]
        }
      ]
    },
    {
      "cell_type": "code",
      "source": [
        "items = student.items() # get all key value pairs\n",
        "print(items)"
      ],
      "metadata": {
        "colab": {
          "base_uri": "https://localhost:8080/"
        },
        "id": "CqfQk90peB9v",
        "outputId": "c192df9d-73c4-4cbe-f0bd-dc419c239711"
      },
      "execution_count": 38,
      "outputs": [
        {
          "output_type": "stream",
          "name": "stdout",
          "text": [
            "dict_items([('name', 'Ali'), ('age', 23), ('addresss', 'Turkey')])\n"
          ]
        }
      ]
    },
    {
      "cell_type": "code",
      "source": [
        "# copy\n",
        "student_copy = student\n",
        "print(student_copy)"
      ],
      "metadata": {
        "colab": {
          "base_uri": "https://localhost:8080/"
        },
        "id": "7fUSQ_qdeB_4",
        "outputId": "6789b28b-b83a-450c-c0dc-21e416b3fbe0"
      },
      "execution_count": 40,
      "outputs": [
        {
          "output_type": "stream",
          "name": "stdout",
          "text": [
            "{'name': 'Ali', 'age': 23, 'addresss': 'Turkey'}\n"
          ]
        }
      ]
    },
    {
      "cell_type": "code",
      "source": [
        "student['name'] = 'Ahmet' # copy changes too\n",
        "print(student)\n",
        "print(student_copy)"
      ],
      "metadata": {
        "colab": {
          "base_uri": "https://localhost:8080/"
        },
        "id": "y0V1zdFReCB3",
        "outputId": "53c39883-19f6-4acd-9c0e-9c6c37a8bd5a"
      },
      "execution_count": 42,
      "outputs": [
        {
          "output_type": "stream",
          "name": "stdout",
          "text": [
            "{'name': 'Ahmet', 'age': 23, 'addresss': 'Turkey'}\n",
            "{'name': 'Ahmet', 'age': 23, 'addresss': 'Turkey'}\n"
          ]
        }
      ]
    },
    {
      "cell_type": "code",
      "source": [
        "student_copy1 = student.copy() # use .copy() to avoid problem\n",
        "print(student_copy1)\n",
        "print(student)"
      ],
      "metadata": {
        "colab": {
          "base_uri": "https://localhost:8080/"
        },
        "id": "wbI5FKreeCD_",
        "outputId": "f7c815f7-ae6e-4370-a579-f7239d2e383f"
      },
      "execution_count": 44,
      "outputs": [
        {
          "output_type": "stream",
          "name": "stdout",
          "text": [
            "{'name': 'Ahmet', 'age': 23, 'addresss': 'Turkey'}\n",
            "{'name': 'Ahmet', 'age': 23, 'addresss': 'Turkey'}\n"
          ]
        }
      ]
    },
    {
      "cell_type": "code",
      "source": [
        "student[\"name\"] = \"Alp\"\n",
        "print(student)\n",
        "print(student_copy1)"
      ],
      "metadata": {
        "colab": {
          "base_uri": "https://localhost:8080/"
        },
        "id": "q04wBF6CeCF-",
        "outputId": "cc69b897-2952-4ba3-b666-78494e3be541"
      },
      "execution_count": 45,
      "outputs": [
        {
          "output_type": "stream",
          "name": "stdout",
          "text": [
            "{'name': 'Alp', 'age': 23, 'addresss': 'Turkey'}\n",
            "{'name': 'Ahmet', 'age': 23, 'addresss': 'Turkey'}\n"
          ]
        }
      ]
    },
    {
      "cell_type": "code",
      "source": [
        "# Iterating Over Dictionaries\n",
        "# You can use loops to iterate over dictionaries, keys, values or items\n",
        "for key in student.keys():\n",
        "    print(key)"
      ],
      "metadata": {
        "colab": {
          "base_uri": "https://localhost:8080/"
        },
        "id": "sAUbnQN0eCHv",
        "outputId": "8be4558a-d701-4a02-dbeb-edf59da4c45d"
      },
      "execution_count": 48,
      "outputs": [
        {
          "output_type": "stream",
          "name": "stdout",
          "text": [
            "name\n",
            "age\n",
            "addresss\n"
          ]
        }
      ]
    },
    {
      "cell_type": "code",
      "source": [
        "# Iterating over values\n",
        "for keys in student.values():\n",
        "    print(keys)"
      ],
      "metadata": {
        "colab": {
          "base_uri": "https://localhost:8080/"
        },
        "id": "LD6lFz6leCJn",
        "outputId": "147421fd-b7e4-4904-81f3-7975f10cffff"
      },
      "execution_count": 51,
      "outputs": [
        {
          "output_type": "stream",
          "name": "stdout",
          "text": [
            "Alp\n",
            "23\n",
            "Turkey\n"
          ]
        }
      ]
    },
    {
      "cell_type": "code",
      "source": [
        "for key, value in student.items():\n",
        "    print(f\"{key}: {value}\")"
      ],
      "metadata": {
        "colab": {
          "base_uri": "https://localhost:8080/"
        },
        "id": "0GaBhh9uf5pf",
        "outputId": "3e6d0aab-14ce-4210-ed06-f7eec8151e13"
      },
      "execution_count": 55,
      "outputs": [
        {
          "output_type": "stream",
          "name": "stdout",
          "text": [
            "name: Alp\n",
            "age: 23\n",
            "addresss: Turkey\n"
          ]
        }
      ]
    },
    {
      "cell_type": "code",
      "source": [
        "students = {\n",
        "    \"student1\": {\"name\":\"Ahmet\",\"age\":23,},\n",
        "    \"student2\": {\"name\":\"Ali\",\"age\":24,}\n",
        "}"
      ],
      "metadata": {
        "id": "lge0b8wLf5rW"
      },
      "execution_count": 57,
      "outputs": []
    },
    {
      "cell_type": "code",
      "source": [
        "print(students)"
      ],
      "metadata": {
        "colab": {
          "base_uri": "https://localhost:8080/"
        },
        "id": "mjThO2vbf5tI",
        "outputId": "f8344f57-aa2f-495a-a54c-41aaa0c35354"
      },
      "execution_count": 58,
      "outputs": [
        {
          "output_type": "stream",
          "name": "stdout",
          "text": [
            "{'student1': {'name': 'Ahmet', 'age': 23}, 'student2': {'name': 'Ali', 'age': 24}}\n"
          ]
        }
      ]
    },
    {
      "cell_type": "code",
      "source": [
        "print(students[\"student2\"][\"name\"])\n",
        "print(students[\"student2\"][\"age\"])"
      ],
      "metadata": {
        "colab": {
          "base_uri": "https://localhost:8080/"
        },
        "id": "ReDcBKrhf5u2",
        "outputId": "0876c00c-4a35-4c05-f30c-45f13e501037"
      },
      "execution_count": 61,
      "outputs": [
        {
          "output_type": "stream",
          "name": "stdout",
          "text": [
            "Ali\n",
            "24\n"
          ]
        }
      ]
    },
    {
      "cell_type": "code",
      "source": [
        "for student_id, student_info in students.items():\n",
        "    print(f\"{student_id}: {student_info}\")\n",
        "    for key, value in student_info.items():\n",
        "        print(f\"{key}: {value}\")"
      ],
      "metadata": {
        "colab": {
          "base_uri": "https://localhost:8080/"
        },
        "id": "3N1jXkBKf5wW",
        "outputId": "b580f037-d33f-470b-f46b-0a29d80d7d2f"
      },
      "execution_count": 63,
      "outputs": [
        {
          "output_type": "stream",
          "name": "stdout",
          "text": [
            "student1: {'name': 'Ahmet', 'age': 23}\n",
            "name: Ahmet\n",
            "age: 23\n",
            "student2: {'name': 'Ali', 'age': 24}\n",
            "name: Ali\n",
            "age: 24\n"
          ]
        }
      ]
    },
    {
      "cell_type": "code",
      "source": [
        "## Dictionary Comprehension\n",
        "\n",
        "squares = {x: x**2 for x in range(5)}\n",
        "print(squares)"
      ],
      "metadata": {
        "colab": {
          "base_uri": "https://localhost:8080/"
        },
        "id": "sGZw0b50g8tn",
        "outputId": "e6b1d36c-bd9f-4264-9b02-4a1a31c026e9"
      },
      "execution_count": 65,
      "outputs": [
        {
          "output_type": "stream",
          "name": "stdout",
          "text": [
            "{0: 0, 1: 1, 2: 4, 3: 9, 4: 16}\n"
          ]
        }
      ]
    },
    {
      "cell_type": "code",
      "source": [
        "## Condition dictionary comprehension\n",
        "evens = {x: x**2 for x in range(1, 10) if x%2 == 0}\n",
        "print(evens)"
      ],
      "metadata": {
        "colab": {
          "base_uri": "https://localhost:8080/"
        },
        "id": "rjfxkbLUg8vn",
        "outputId": "27be78f4-62dc-49c9-b588-c63942d4e678"
      },
      "execution_count": 69,
      "outputs": [
        {
          "output_type": "stream",
          "name": "stdout",
          "text": [
            "{2: 4, 4: 16, 6: 36, 8: 64}\n"
          ]
        }
      ]
    },
    {
      "cell_type": "code",
      "source": [
        "numbers = [1,2,2,3,3,3,4,4,4,4]\n",
        "frequency = {}\n",
        "for number in numbers:\n",
        "    if number not in frequency:\n",
        "        frequency[number] = 1\n",
        "    else:\n",
        "        frequency[number] += 1\n",
        "print(frequency)"
      ],
      "metadata": {
        "colab": {
          "base_uri": "https://localhost:8080/"
        },
        "id": "3IO4RUgng8xe",
        "outputId": "6add8a02-8a41-46f8-934d-be3898417bfa"
      },
      "execution_count": 70,
      "outputs": [
        {
          "output_type": "stream",
          "name": "stdout",
          "text": [
            "{1: 1, 2: 2, 3: 3, 4: 4}\n"
          ]
        }
      ]
    },
    {
      "cell_type": "code",
      "source": [
        "dict1 = {\"a\":1, \"b\":2}\n",
        "dict2={\"b\":3,\"c\":4}\n",
        "merged_dict = {**dict1, **dict2}\n",
        "print(merged_dict)"
      ],
      "metadata": {
        "colab": {
          "base_uri": "https://localhost:8080/"
        },
        "id": "ySCirePFg8zf",
        "outputId": "169c034d-7d67-449c-a3b1-212aa0515dd1"
      },
      "execution_count": 71,
      "outputs": [
        {
          "output_type": "stream",
          "name": "stdout",
          "text": [
            "{'a': 1, 'b': 3, 'c': 4}\n"
          ]
        }
      ]
    },
    {
      "cell_type": "code",
      "source": [],
      "metadata": {
        "id": "US1NFzxWg81X"
      },
      "execution_count": null,
      "outputs": []
    }
  ]
}