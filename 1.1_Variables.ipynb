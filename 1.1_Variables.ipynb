{
  "nbformat": 4,
  "nbformat_minor": 0,
  "metadata": {
    "colab": {
      "provenance": []
    },
    "kernelspec": {
      "name": "python3",
      "display_name": "Python 3"
    },
    "language_info": {
      "name": "python"
    }
  },
  "cells": [
    {
      "cell_type": "markdown",
      "source": [
        "Naming Conventions\n",
        "\n",
        "\n",
        "*   Variable names should be descriptive\n",
        "*   Must start with a letter or and '_' and contains\n",
        "\n",
        "\n",
        "*   Variable names case sensitive\n",
        "\n",
        "\n",
        "\n",
        "letter, numbers and underscores\n"
      ],
      "metadata": {
        "id": "egHTs_NYlYKT"
      }
    },
    {
      "cell_type": "code",
      "execution_count": 1,
      "metadata": {
        "id": "QI0XG64QkKBC"
      },
      "outputs": [],
      "source": [
        "# Introduction to Variables"
      ]
    },
    {
      "cell_type": "code",
      "source": [
        "age =  #int\n",
        "age = 12.0 #float\n",
        "name = \"Ahmet\" # string\n",
        "is_collision = True # boolean\n",
        "number = float('inf') # infinite number"
      ],
      "metadata": {
        "id": "H79VIACIkQGC"
      },
      "execution_count": 5,
      "outputs": []
    },
    {
      "cell_type": "code",
      "source": [
        "age_str = str(age)\n",
        "print(type(age_str))\n",
        "age_float = float(age_str)\n",
        "print(type(age_float))"
      ],
      "metadata": {
        "colab": {
          "base_uri": "https://localhost:8080/"
        },
        "id": "HLySvaFennoJ",
        "outputId": "32c41ed2-4e52-45b4-959b-f6b2ead3921a"
      },
      "execution_count": 15,
      "outputs": [
        {
          "output_type": "stream",
          "name": "stdout",
          "text": [
            "<class 'str'>\n",
            "<class 'float'>\n"
          ]
        }
      ]
    },
    {
      "cell_type": "code",
      "source": [
        "print(number)"
      ],
      "metadata": {
        "colab": {
          "base_uri": "https://localhost:8080/"
        },
        "id": "6xIvID3BkQIK",
        "outputId": "864fb0e9-820c-4f6f-fb54-e1d07663d354"
      },
      "execution_count": 6,
      "outputs": [
        {
          "output_type": "stream",
          "name": "stdout",
          "text": [
            "inf\n"
          ]
        }
      ]
    },
    {
      "cell_type": "code",
      "source": [
        "# Wrong variable names\n",
        "@name = \"Ahmet\"\n",
        "first-name = \"Ahmet\"\n",
        "1name = \"ahmet\"\n",
        "123 = \"ahmet\"\n"
      ],
      "metadata": {
        "colab": {
          "base_uri": "https://localhost:8080/",
          "height": 106
        },
        "id": "79KwUoPZkQKB",
        "outputId": "9d1e50bf-fbe6-43b2-998b-67294ea73515"
      },
      "execution_count": 10,
      "outputs": [
        {
          "output_type": "error",
          "ename": "SyntaxError",
          "evalue": "invalid decimal literal (<ipython-input-10-39378eee6361>, line 4)",
          "traceback": [
            "\u001b[0;36m  File \u001b[0;32m\"<ipython-input-10-39378eee6361>\"\u001b[0;36m, line \u001b[0;32m4\u001b[0m\n\u001b[0;31m    1name = \"ahmet\"\u001b[0m\n\u001b[0m    ^\u001b[0m\n\u001b[0;31mSyntaxError\u001b[0m\u001b[0;31m:\u001b[0m invalid decimal literal\n"
          ]
        }
      ]
    },
    {
      "cell_type": "code",
      "source": [
        "age = input(\"Enter your age: \")\n",
        "print(age,type(age))"
      ],
      "metadata": {
        "colab": {
          "base_uri": "https://localhost:8080/"
        },
        "id": "J9R7EZe9mFlD",
        "outputId": "fd741d93-e632-4446-d2b7-63c54980de10"
      },
      "execution_count": 17,
      "outputs": [
        {
          "output_type": "stream",
          "name": "stdout",
          "text": [
            "Enter your age: 8\n",
            "8 <class 'str'>\n"
          ]
        }
      ]
    },
    {
      "cell_type": "code",
      "source": [
        "age = int(age)\n",
        "print(age,type(age))"
      ],
      "metadata": {
        "colab": {
          "base_uri": "https://localhost:8080/"
        },
        "id": "5t6oCJlgrxuy",
        "outputId": "484c1f3b-7422-41e1-c952-7039c4ea6dfa"
      },
      "execution_count": 19,
      "outputs": [
        {
          "output_type": "stream",
          "name": "stdout",
          "text": [
            "8 <class 'int'>\n"
          ]
        }
      ]
    },
    {
      "cell_type": "code",
      "source": [
        "number1 = 5\n",
        "number2 = 10\n",
        "sum = number1 + number2\n",
        "difference = number1 - number2\n",
        "product = number1 * number2\n",
        "quotient = number1 / number2\n",
        "\n",
        "print(\"sum:\",sum)\n",
        "print(\"difference:\",difference)\n",
        "print(\"product:\",product)\n",
        "print(\"quotient:\",quotient)"
      ],
      "metadata": {
        "colab": {
          "base_uri": "https://localhost:8080/"
        },
        "id": "REVM_l2rr5z5",
        "outputId": "43604cef-ad73-41b0-a8d8-d9da3cfd7a10"
      },
      "execution_count": 21,
      "outputs": [
        {
          "output_type": "stream",
          "name": "stdout",
          "text": [
            "sum: 15\n",
            "difference: -5\n",
            "product: 50\n",
            "quotient: 0.5\n"
          ]
        }
      ]
    }
  ]
}