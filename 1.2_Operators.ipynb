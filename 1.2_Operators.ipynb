{
  "nbformat": 4,
  "nbformat_minor": 0,
  "metadata": {
    "colab": {
      "provenance": []
    },
    "kernelspec": {
      "name": "python3",
      "display_name": "Python 3"
    },
    "language_info": {
      "name": "python"
    }
  },
  "cells": [
    {
      "cell_type": "markdown",
      "source": [
        "Operators\n",
        "\n",
        "\n",
        "\n",
        "*   Addition\n",
        "\n",
        "*   Subtraction\n",
        "\n",
        "*   Multiplication\n",
        "\n",
        "*   Division\n",
        "\n",
        "*   FloorDivision\n",
        "\n",
        "*   Modulus\n",
        "\n",
        "*   Exponentiation\n",
        "\n",
        "*   Equal to\n",
        "*   Not Equalt o\n",
        "\n",
        "\n",
        "*   Greater than\n",
        "*   Less than\n",
        "\n",
        "\n",
        "*   Greater than or equal to\n",
        "\n",
        "\n",
        "*   Less than or equal to\n",
        "\n",
        "\n",
        "*   And\n",
        "\n",
        "\n",
        "*   Or\n",
        "\n",
        "\n",
        "*   Not\n",
        "\n",
        "\n",
        "\n",
        "\n"
      ],
      "metadata": {
        "id": "Po78GrSRv2ex"
      }
    },
    {
      "cell_type": "code",
      "execution_count": 5,
      "metadata": {
        "colab": {
          "base_uri": "https://localhost:8080/"
        },
        "id": "4KDx4c3pvyJA",
        "outputId": "8adbdf32-5bca-49df-be3a-736e60e9aad5"
      },
      "outputs": [
        {
          "output_type": "stream",
          "name": "stdout",
          "text": [
            "30\n",
            "20\n",
            "125\n",
            "5.0\n",
            "5\n",
            "0\n",
            "9765625\n"
          ]
        }
      ],
      "source": [
        "##Aritmethic\n",
        "\n",
        "x = 25\n",
        "y = 5\n",
        "addition = x + y\n",
        "substraction = x - y\n",
        "multiplication = x * y\n",
        "division = x / y\n",
        "floor_div_result = x // y # it basically cuts of the part after the period\n",
        "modulus_result = x % y\n",
        "exponent_result = x**y\n",
        "\n",
        "print(addition)\n",
        "print(substraction)\n",
        "print(multiplication)\n",
        "print(division)\n",
        "print(floor_div_result)\n",
        "print(modulus_result)\n",
        "print(exponent_result)\n",
        "\n"
      ]
    },
    {
      "cell_type": "code",
      "source": [
        "# comparison operators\n",
        "# == Equal to\n",
        "x = 10\n",
        "y = 12\n",
        "x==y"
      ],
      "metadata": {
        "colab": {
          "base_uri": "https://localhost:8080/"
        },
        "id": "PXPLDON-wai5",
        "outputId": "b87089e7-0f91-45e7-9194-ab152ce5a5a5"
      },
      "execution_count": 8,
      "outputs": [
        {
          "output_type": "execute_result",
          "data": {
            "text/plain": [
              "False"
            ]
          },
          "metadata": {},
          "execution_count": 8
        }
      ]
    },
    {
      "cell_type": "code",
      "source": [
        "name1 = \"ahmet\"\n",
        "name2 = \"ahmet\"\n",
        "name1==name2"
      ],
      "metadata": {
        "colab": {
          "base_uri": "https://localhost:8080/"
        },
        "id": "3okTtuo7wak4",
        "outputId": "c36a613f-4950-4a1e-c456-bd262e1249bd"
      },
      "execution_count": 9,
      "outputs": [
        {
          "output_type": "execute_result",
          "data": {
            "text/plain": [
              "True"
            ]
          },
          "metadata": {},
          "execution_count": 9
        }
      ]
    },
    {
      "cell_type": "code",
      "source": [
        "# Not Equal To !="
      ],
      "metadata": {
        "id": "NXpHZWupwanQ"
      },
      "execution_count": 10,
      "outputs": []
    },
    {
      "cell_type": "code",
      "source": [
        "name1 != name2"
      ],
      "metadata": {
        "colab": {
          "base_uri": "https://localhost:8080/"
        },
        "id": "GuwBHwqqyU2B",
        "outputId": "8f6e7c6e-81a5-4a64-9e72-5fad756dcc53"
      },
      "execution_count": 11,
      "outputs": [
        {
          "output_type": "execute_result",
          "data": {
            "text/plain": [
              "False"
            ]
          },
          "metadata": {},
          "execution_count": 11
        }
      ]
    },
    {
      "cell_type": "code",
      "source": [
        "# Less Than <\n",
        "x < y"
      ],
      "metadata": {
        "colab": {
          "base_uri": "https://localhost:8080/"
        },
        "id": "ytoMk5BGyU3w",
        "outputId": "f88cd352-161e-4fa6-8207-c254dc5c482f"
      },
      "execution_count": 12,
      "outputs": [
        {
          "output_type": "execute_result",
          "data": {
            "text/plain": [
              "True"
            ]
          },
          "metadata": {},
          "execution_count": 12
        }
      ]
    },
    {
      "cell_type": "code",
      "source": [
        "# Greater Than >\n",
        "x > y"
      ],
      "metadata": {
        "colab": {
          "base_uri": "https://localhost:8080/"
        },
        "id": "l8G7O9reyU5w",
        "outputId": "92cccde4-73f6-4ba2-eef5-3a450904da6f"
      },
      "execution_count": 13,
      "outputs": [
        {
          "output_type": "execute_result",
          "data": {
            "text/plain": [
              "False"
            ]
          },
          "metadata": {},
          "execution_count": 13
        }
      ]
    },
    {
      "cell_type": "code",
      "source": [
        "# Less Than Equal To <=\n",
        "x <= y"
      ],
      "metadata": {
        "colab": {
          "base_uri": "https://localhost:8080/"
        },
        "id": "8sVMBLZhyU7g",
        "outputId": "a8b6b2b5-73f5-4aaf-f680-8bb8354510f2"
      },
      "execution_count": 14,
      "outputs": [
        {
          "output_type": "execute_result",
          "data": {
            "text/plain": [
              "True"
            ]
          },
          "metadata": {},
          "execution_count": 14
        }
      ]
    },
    {
      "cell_type": "code",
      "source": [
        "# Greater Than Equal To >=\n",
        "x >= y"
      ],
      "metadata": {
        "colab": {
          "base_uri": "https://localhost:8080/"
        },
        "id": "mHeEfA2gyU9g",
        "outputId": "fdbb4593-9b51-4122-e01b-f5cddfe1bdcf"
      },
      "execution_count": 15,
      "outputs": [
        {
          "output_type": "execute_result",
          "data": {
            "text/plain": [
              "False"
            ]
          },
          "metadata": {},
          "execution_count": 15
        }
      ]
    },
    {
      "cell_type": "code",
      "source": [
        "X = True\n",
        "Y = False\n",
        "result = X and Y\n",
        "print(result)\n",
        "result = X or Y\n",
        "print(result)\n"
      ],
      "metadata": {
        "colab": {
          "base_uri": "https://localhost:8080/"
        },
        "id": "CxW7TIHLy3nB",
        "outputId": "e9dc9a50-4a31-4a81-eb81-54ed990a9713"
      },
      "execution_count": 18,
      "outputs": [
        {
          "output_type": "stream",
          "name": "stdout",
          "text": [
            "False\n",
            "True\n"
          ]
        }
      ]
    },
    {
      "cell_type": "code",
      "source": [],
      "metadata": {
        "id": "j-zjRtpmy3tJ"
      },
      "execution_count": null,
      "outputs": []
    },
    {
      "cell_type": "code",
      "source": [],
      "metadata": {
        "id": "1E4s1nMPy3yh"
      },
      "execution_count": null,
      "outputs": []
    },
    {
      "cell_type": "code",
      "source": [],
      "metadata": {
        "id": "-ZSnuWiWy4Fp"
      },
      "execution_count": null,
      "outputs": []
    },
    {
      "cell_type": "code",
      "source": [],
      "metadata": {
        "id": "S-hTrHEfy4QB"
      },
      "execution_count": null,
      "outputs": []
    }
  ]
}