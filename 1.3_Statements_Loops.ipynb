{
  "nbformat": 4,
  "nbformat_minor": 0,
  "metadata": {
    "colab": {
      "provenance": []
    },
    "kernelspec": {
      "name": "python3",
      "display_name": "Python 3"
    },
    "language_info": {
      "name": "python"
    }
  },
  "cells": [
    {
      "cell_type": "markdown",
      "source": [
        "Conditional Statements (if, elif, else)\n",
        "Loops (for, while)\n",
        "Nested Loops\n",
        "Loop Control Statements\n",
        "*   break\n",
        "*   continue\n",
        "*   pass\n",
        "\n",
        "\n",
        "\n"
      ],
      "metadata": {
        "id": "5UwNnzE5KPB9"
      }
    },
    {
      "cell_type": "code",
      "execution_count": 4,
      "metadata": {
        "colab": {
          "base_uri": "https://localhost:8080/"
        },
        "id": "ZiQiRY3eKN_q",
        "outputId": "2eb4584a-7ac7-4f3b-d5f1-d98c258e7a7f"
      },
      "outputs": [
        {
          "output_type": "stream",
          "name": "stdout",
          "text": [
            "true\n"
          ]
        }
      ],
      "source": [
        "if True:\n",
        "    print(\"true\")"
      ]
    },
    {
      "cell_type": "code",
      "source": [
        "note = 70\n",
        "if note>= 90:\n",
        "    print(\"AA\")\n",
        "elif note >= 80:\n",
        "    print(\"BA\")\n",
        "else:\n",
        "    print(\"BB\")"
      ],
      "metadata": {
        "colab": {
          "base_uri": "https://localhost:8080/"
        },
        "id": "77Y82bb6Kjs1",
        "outputId": "862b3b1d-da66-4875-949e-0d407c312abe"
      },
      "execution_count": 6,
      "outputs": [
        {
          "output_type": "stream",
          "name": "stdout",
          "text": [
            "BB\n"
          ]
        }
      ]
    },
    {
      "cell_type": "code",
      "source": [
        "print(range(10)) # range logic"
      ],
      "metadata": {
        "colab": {
          "base_uri": "https://localhost:8080/"
        },
        "id": "9-QBRSz7Kjuk",
        "outputId": "fc208b5d-5a18-4799-f34b-31fa5132fd20"
      },
      "execution_count": 7,
      "outputs": [
        {
          "output_type": "stream",
          "name": "stdout",
          "text": [
            "range(0, 10)\n"
          ]
        }
      ]
    },
    {
      "cell_type": "code",
      "source": [
        "for i in range(10):\n",
        "  print(i)"
      ],
      "metadata": {
        "colab": {
          "base_uri": "https://localhost:8080/"
        },
        "id": "8D5IOXzlKjwU",
        "outputId": "b554f93d-e4d1-4b9d-d704-d41b03966e6a"
      },
      "execution_count": 8,
      "outputs": [
        {
          "output_type": "stream",
          "name": "stdout",
          "text": [
            "0\n",
            "1\n",
            "2\n",
            "3\n",
            "4\n",
            "5\n",
            "6\n",
            "7\n",
            "8\n",
            "9\n"
          ]
        }
      ]
    },
    {
      "cell_type": "code",
      "source": [
        "range(1,10,2) # start, end, step"
      ],
      "metadata": {
        "colab": {
          "base_uri": "https://localhost:8080/"
        },
        "id": "2PyuGADsKjyU",
        "outputId": "0de02e38-c4b7-4208-d6ea-fabcd0d9fe36"
      },
      "execution_count": 9,
      "outputs": [
        {
          "output_type": "execute_result",
          "data": {
            "text/plain": [
              "range(1, 10, 2)"
            ]
          },
          "metadata": {},
          "execution_count": 9
        }
      ]
    },
    {
      "cell_type": "code",
      "source": [
        "for i in range(1, 10, 2):\n",
        "  print(i)"
      ],
      "metadata": {
        "colab": {
          "base_uri": "https://localhost:8080/"
        },
        "id": "RxCgFlVDKj0M",
        "outputId": "01c3a126-3479-4c2f-d278-2954ea454684"
      },
      "execution_count": 10,
      "outputs": [
        {
          "output_type": "stream",
          "name": "stdout",
          "text": [
            "1\n",
            "3\n",
            "5\n",
            "7\n",
            "9\n"
          ]
        }
      ]
    },
    {
      "cell_type": "code",
      "source": [
        "for i in range(10, 1, -2):\n",
        "    print(i)"
      ],
      "metadata": {
        "colab": {
          "base_uri": "https://localhost:8080/"
        },
        "id": "tgK35ziPMb5N",
        "outputId": "9903e5a9-b4c4-4e40-a172-d32ff86a2c47"
      },
      "execution_count": 11,
      "outputs": [
        {
          "output_type": "stream",
          "name": "stdout",
          "text": [
            "10\n",
            "8\n",
            "6\n",
            "4\n",
            "2\n"
          ]
        }
      ]
    },
    {
      "cell_type": "code",
      "source": [
        "str = \"Ahmet\"\n",
        "\n",
        "for i in str:\n",
        "    print(i)"
      ],
      "metadata": {
        "colab": {
          "base_uri": "https://localhost:8080/"
        },
        "id": "6WtC8DNAMwCc",
        "outputId": "fdd1aee8-8b90-4224-ca65-1b2350ed44f1"
      },
      "execution_count": 12,
      "outputs": [
        {
          "output_type": "stream",
          "name": "stdout",
          "text": [
            "A\n",
            "h\n",
            "m\n",
            "e\n",
            "t\n"
          ]
        }
      ]
    },
    {
      "cell_type": "code",
      "source": [
        "count = 0\n",
        "\n",
        "while count < 10:\n",
        "    print(count)\n",
        "    count += 2"
      ],
      "metadata": {
        "colab": {
          "base_uri": "https://localhost:8080/"
        },
        "id": "r9Frp3uOMwEt",
        "outputId": "313b762a-3719-4e0b-a984-335ce3da4174"
      },
      "execution_count": 13,
      "outputs": [
        {
          "output_type": "stream",
          "name": "stdout",
          "text": [
            "0\n",
            "2\n",
            "4\n",
            "6\n",
            "8\n"
          ]
        }
      ]
    },
    {
      "cell_type": "code",
      "source": [
        "# Loop Control\n",
        "\n",
        "# break\n",
        "\n",
        "# The break statement exits the loop permaturely\n",
        "\n",
        "for i in range(10):\n",
        "    if i == 8:\n",
        "        break\n",
        "    print(i)"
      ],
      "metadata": {
        "colab": {
          "base_uri": "https://localhost:8080/"
        },
        "id": "eOiUtO_IMwG1",
        "outputId": "f49a44a3-81fb-4f94-ad6b-413f0629b15f"
      },
      "execution_count": 14,
      "outputs": [
        {
          "output_type": "stream",
          "name": "stdout",
          "text": [
            "0\n",
            "1\n",
            "2\n",
            "3\n",
            "4\n",
            "5\n",
            "6\n",
            "7\n"
          ]
        }
      ]
    },
    {
      "cell_type": "code",
      "source": [
        "## continue\n",
        "## The Continue statement skips the current iteration and continues with the next.\n",
        "\n",
        "\n",
        "for i in range(10):\n",
        "    if i % 2 == 0:\n",
        "        continue\n",
        "    print(i)"
      ],
      "metadata": {
        "colab": {
          "base_uri": "https://localhost:8080/"
        },
        "id": "gLgTSjsBMwJF",
        "outputId": "c4eb9319-bbf9-414e-ab5e-505fc4a24508"
      },
      "execution_count": 16,
      "outputs": [
        {
          "output_type": "stream",
          "name": "stdout",
          "text": [
            "1\n",
            "3\n",
            "5\n",
            "7\n",
            "9\n"
          ]
        }
      ]
    },
    {
      "cell_type": "code",
      "source": [
        "## pass\n",
        "## The pass statement is null operation, it does nothing.\n",
        "\n",
        "for i in range(5):\n",
        "    if i == 3:\n",
        "        pass\n",
        "    print(i)"
      ],
      "metadata": {
        "colab": {
          "base_uri": "https://localhost:8080/"
        },
        "id": "Ni-XxpfWMwLc",
        "outputId": "4b69166e-8dd2-45f0-d898-879d4f540efc"
      },
      "execution_count": 18,
      "outputs": [
        {
          "output_type": "stream",
          "name": "stdout",
          "text": [
            "0\n",
            "1\n",
            "2\n",
            "3\n",
            "4\n"
          ]
        }
      ]
    },
    {
      "cell_type": "code",
      "source": [
        "## Nested Loops\n",
        "\n",
        "for i in range(3):\n",
        "    for j in range(4):\n",
        "        print(f\"i: {i}, j: {j}\")\n"
      ],
      "metadata": {
        "colab": {
          "base_uri": "https://localhost:8080/"
        },
        "id": "LjjrJR7CMwQ-",
        "outputId": "8d864b7e-16b6-440e-b5f3-9a67b356cb48"
      },
      "execution_count": 19,
      "outputs": [
        {
          "output_type": "stream",
          "name": "stdout",
          "text": [
            "i: 0, j: 0\n",
            "i: 0, j: 1\n",
            "i: 0, j: 2\n",
            "i: 0, j: 3\n",
            "i: 1, j: 0\n",
            "i: 1, j: 1\n",
            "i: 1, j: 2\n",
            "i: 1, j: 3\n",
            "i: 2, j: 0\n",
            "i: 2, j: 1\n",
            "i: 2, j: 2\n",
            "i: 2, j: 3\n"
          ]
        }
      ]
    },
    {
      "cell_type": "code",
      "source": [
        "## Calculate the sum of first N natural numbers using a loop\n",
        "\n",
        "n = 5\n",
        "sum = 0\n",
        "count = 1\n",
        "\n",
        "while count <=n:\n",
        "    sum += count\n",
        "    count +=1\n",
        "print(sum)"
      ],
      "metadata": {
        "colab": {
          "base_uri": "https://localhost:8080/"
        },
        "id": "spNFQxs_Mb7d",
        "outputId": "5b3766af-9032-449a-97cb-8c5cbb721db5"
      },
      "execution_count": 25,
      "outputs": [
        {
          "output_type": "stream",
          "name": "stdout",
          "text": [
            "15\n"
          ]
        }
      ]
    },
    {
      "cell_type": "code",
      "source": [],
      "metadata": {
        "id": "VzKa4wxRMcAU"
      },
      "execution_count": null,
      "outputs": []
    }
  ]
}