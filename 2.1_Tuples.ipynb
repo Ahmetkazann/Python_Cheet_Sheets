{
  "nbformat": 4,
  "nbformat_minor": 0,
  "metadata": {
    "colab": {
      "provenance": []
    },
    "kernelspec": {
      "name": "python3",
      "display_name": "Python 3"
    },
    "language_info": {
      "name": "python"
    }
  },
  "cells": [
    {
      "cell_type": "markdown",
      "source": [
        "1. Tuples\n",
        "2. Creating - Acesing - Operations - Immuatble Nature of Tuples\n",
        "\n",
        "3. Tuple Methods - Packing and Unpacking Tuples - Nested Tuples\n",
        "\n",
        "Tuples are ordered collections of items that are immutable. They are imilar to lists but their immutability makes them differen"
      ],
      "metadata": {
        "id": "sFycAnE-EeB8"
      }
    },
    {
      "cell_type": "code",
      "source": [
        "## creating tuple\n",
        "tpl = ()\n",
        "print(tpl)\n",
        "print(type(tpl))"
      ],
      "metadata": {
        "colab": {
          "base_uri": "https://localhost:8080/"
        },
        "id": "PobRFINOEegb",
        "outputId": "69081eb3-005c-44a5-893e-c4e9f6fe171e"
      },
      "execution_count": 2,
      "outputs": [
        {
          "output_type": "stream",
          "name": "stdout",
          "text": [
            "()\n",
            "<class 'tuple'>\n"
          ]
        }
      ]
    },
    {
      "cell_type": "code",
      "source": [
        "lst = list()\n",
        "print(type(lst))\n",
        "tpl = tuple()\n",
        "print(type(tpl))"
      ],
      "metadata": {
        "colab": {
          "base_uri": "https://localhost:8080/"
        },
        "id": "nJ9Wa6-oEeii",
        "outputId": "8559f3a1-9b79-4b34-ab6e-84d7202283eb"
      },
      "execution_count": 3,
      "outputs": [
        {
          "output_type": "stream",
          "name": "stdout",
          "text": [
            "<class 'list'>\n",
            "<class 'tuple'>\n"
          ]
        }
      ]
    },
    {
      "cell_type": "code",
      "source": [
        "numbers = tuple([1,2,3,4,5,6])\n",
        "print(numbers)\n",
        "print(type(numbers))"
      ],
      "metadata": {
        "colab": {
          "base_uri": "https://localhost:8080/"
        },
        "id": "cLa34SvoEekr",
        "outputId": "d4ebb646-3fab-4ad8-bb6b-4e2d0e9fa281"
      },
      "execution_count": 11,
      "outputs": [
        {
          "output_type": "stream",
          "name": "stdout",
          "text": [
            "(1, 2, 3, 4, 5, 6)\n",
            "<class 'tuple'>\n"
          ]
        }
      ]
    },
    {
      "cell_type": "code",
      "source": [
        "numbers = list((1,2,3,4,5,6))\n",
        "print(numbers)\n",
        "print(type(numbers))"
      ],
      "metadata": {
        "colab": {
          "base_uri": "https://localhost:8080/"
        },
        "id": "Bv7Zp-HYEem6",
        "outputId": "ac638e21-110b-4fe3-9b6e-95a269a86066"
      },
      "execution_count": 9,
      "outputs": [
        {
          "output_type": "stream",
          "name": "stdout",
          "text": [
            "[1, 2, 3, 4, 5, 6]\n",
            "<class 'list'>\n"
          ]
        }
      ]
    },
    {
      "cell_type": "code",
      "execution_count": 13,
      "metadata": {
        "colab": {
          "base_uri": "https://localhost:8080/"
        },
        "id": "d8GxZ0FA0D6b",
        "outputId": "47a41027-4a6d-4d47-b2de-66ce263b31b8"
      },
      "outputs": [
        {
          "output_type": "execute_result",
          "data": {
            "text/plain": [
              "(1, 'helloworld', 3.14, True)"
            ]
          },
          "metadata": {},
          "execution_count": 13
        }
      ],
      "source": [
        "mixed_tuple = (1,\"helloworld\", 3.14, True)\n",
        "mixed_tuple"
      ]
    },
    {
      "cell_type": "code",
      "source": [
        "numbers"
      ],
      "metadata": {
        "colab": {
          "base_uri": "https://localhost:8080/"
        },
        "id": "SPchjDNMGheb",
        "outputId": "5bf4ac22-eacd-4b55-c6ea-a10faedcb1ff"
      },
      "execution_count": 15,
      "outputs": [
        {
          "output_type": "execute_result",
          "data": {
            "text/plain": [
              "(1, 2, 3, 4, 5, 6)"
            ]
          },
          "metadata": {},
          "execution_count": 15
        }
      ]
    },
    {
      "cell_type": "code",
      "source": [
        "numbers[0]"
      ],
      "metadata": {
        "colab": {
          "base_uri": "https://localhost:8080/"
        },
        "id": "EBEKZBT1Ghga",
        "outputId": "b3cf2e0f-2303-49b1-caa0-ac01e32d0df0"
      },
      "execution_count": 16,
      "outputs": [
        {
          "output_type": "execute_result",
          "data": {
            "text/plain": [
              "1"
            ]
          },
          "metadata": {},
          "execution_count": 16
        }
      ]
    },
    {
      "cell_type": "code",
      "source": [
        "numbers[-1]"
      ],
      "metadata": {
        "colab": {
          "base_uri": "https://localhost:8080/"
        },
        "id": "WjcWiZ56Ghij",
        "outputId": "37b848bd-45fa-46bf-f997-a7888cc785ba"
      },
      "execution_count": 17,
      "outputs": [
        {
          "output_type": "execute_result",
          "data": {
            "text/plain": [
              "6"
            ]
          },
          "metadata": {},
          "execution_count": 17
        }
      ]
    },
    {
      "cell_type": "code",
      "source": [
        "numbers[:3]"
      ],
      "metadata": {
        "colab": {
          "base_uri": "https://localhost:8080/"
        },
        "id": "RH7IKnCVGhki",
        "outputId": "56f8073e-488e-4b92-885d-7a1d77397be8"
      },
      "execution_count": 18,
      "outputs": [
        {
          "output_type": "execute_result",
          "data": {
            "text/plain": [
              "(1, 2, 3)"
            ]
          },
          "metadata": {},
          "execution_count": 18
        }
      ]
    },
    {
      "cell_type": "code",
      "source": [
        "numbers[0:5]"
      ],
      "metadata": {
        "colab": {
          "base_uri": "https://localhost:8080/"
        },
        "id": "XLgtsmNZGswq",
        "outputId": "6ee4793e-1562-44c6-e2a1-9b431215e1ac"
      },
      "execution_count": 20,
      "outputs": [
        {
          "output_type": "execute_result",
          "data": {
            "text/plain": [
              "(1, 2, 3, 4, 5)"
            ]
          },
          "metadata": {},
          "execution_count": 20
        }
      ]
    },
    {
      "cell_type": "code",
      "source": [
        "numbers[::-1] # start, end, step"
      ],
      "metadata": {
        "colab": {
          "base_uri": "https://localhost:8080/"
        },
        "id": "fN2B6R_CGsyi",
        "outputId": "c764fbe2-e952-41f3-ef37-554f352cd647"
      },
      "execution_count": 21,
      "outputs": [
        {
          "output_type": "execute_result",
          "data": {
            "text/plain": [
              "(6, 5, 4, 3, 2, 1)"
            ]
          },
          "metadata": {},
          "execution_count": 21
        }
      ]
    },
    {
      "cell_type": "code",
      "source": [
        "concatenation_tuple = numbers + mixed_tuple\n",
        "print(concatenation_tuple)"
      ],
      "metadata": {
        "colab": {
          "base_uri": "https://localhost:8080/"
        },
        "id": "BCOEIUvzGs0J",
        "outputId": "bd596ddd-d550-4b8b-a286-5d929847a634"
      },
      "execution_count": 22,
      "outputs": [
        {
          "output_type": "stream",
          "name": "stdout",
          "text": [
            "(1, 2, 3, 4, 5, 6, 1, 'helloworld', 3.14, True)\n"
          ]
        }
      ]
    },
    {
      "cell_type": "code",
      "source": [
        "mixed_tuple * 3\n"
      ],
      "metadata": {
        "colab": {
          "base_uri": "https://localhost:8080/"
        },
        "id": "kW2aJRJgGs2S",
        "outputId": "6c34eb12-424c-40b0-bf97-ababf4b44d18"
      },
      "execution_count": 24,
      "outputs": [
        {
          "output_type": "execute_result",
          "data": {
            "text/plain": [
              "(1,\n",
              " 'helloworld',\n",
              " 3.14,\n",
              " True,\n",
              " 1,\n",
              " 'helloworld',\n",
              " 3.14,\n",
              " True,\n",
              " 1,\n",
              " 'helloworld',\n",
              " 3.14,\n",
              " True)"
            ]
          },
          "metadata": {},
          "execution_count": 24
        }
      ]
    },
    {
      "cell_type": "code",
      "source": [
        "# Immutable Natura of Tuples\n",
        "# Tuples are immutable, meaning their elements cannot be changed once assigned.\n",
        "lst = [1,2,3]\n",
        "print(lst)\n",
        "lst[1] = 5\n",
        "print(lst)"
      ],
      "metadata": {
        "colab": {
          "base_uri": "https://localhost:8080/"
        },
        "id": "RReOTgwkHhnj",
        "outputId": "261a4e1c-a073-4957-86fa-7cb1c227f14b"
      },
      "execution_count": 28,
      "outputs": [
        {
          "output_type": "stream",
          "name": "stdout",
          "text": [
            "[1, 2, 3]\n",
            "[1, 5, 3]\n"
          ]
        }
      ]
    },
    {
      "cell_type": "code",
      "source": [
        "tpl = (1,2,3,4,5,6,7)\n",
        "tpl[1] = 5 # tuples are immutable"
      ],
      "metadata": {
        "colab": {
          "base_uri": "https://localhost:8080/",
          "height": 159
        },
        "id": "cGTsJ9puHhpa",
        "outputId": "9e2dbed6-038f-434c-da1d-a8898ae88e1d"
      },
      "execution_count": 34,
      "outputs": [
        {
          "output_type": "error",
          "ename": "TypeError",
          "evalue": "'tuple' object does not support item assignment",
          "traceback": [
            "\u001b[0;31m---------------------------------------------------------------------------\u001b[0m",
            "\u001b[0;31mTypeError\u001b[0m                                 Traceback (most recent call last)",
            "\u001b[0;32m<ipython-input-34-e90a5291af98>\u001b[0m in \u001b[0;36m<cell line: 2>\u001b[0;34m()\u001b[0m\n\u001b[1;32m      1\u001b[0m \u001b[0mtpl\u001b[0m \u001b[0;34m=\u001b[0m \u001b[0;34m(\u001b[0m\u001b[0;36m1\u001b[0m\u001b[0;34m,\u001b[0m\u001b[0;36m2\u001b[0m\u001b[0;34m,\u001b[0m\u001b[0;36m3\u001b[0m\u001b[0;34m,\u001b[0m\u001b[0;36m4\u001b[0m\u001b[0;34m,\u001b[0m\u001b[0;36m5\u001b[0m\u001b[0;34m,\u001b[0m\u001b[0;36m6\u001b[0m\u001b[0;34m,\u001b[0m\u001b[0;36m7\u001b[0m\u001b[0;34m)\u001b[0m\u001b[0;34m\u001b[0m\u001b[0;34m\u001b[0m\u001b[0m\n\u001b[0;32m----> 2\u001b[0;31m \u001b[0mtpl\u001b[0m\u001b[0;34m[\u001b[0m\u001b[0;36m1\u001b[0m\u001b[0;34m]\u001b[0m \u001b[0;34m=\u001b[0m \u001b[0;36m5\u001b[0m \u001b[0;31m# tuples are immutable\u001b[0m\u001b[0;34m\u001b[0m\u001b[0;34m\u001b[0m\u001b[0m\n\u001b[0m",
            "\u001b[0;31mTypeError\u001b[0m: 'tuple' object does not support item assignment"
          ]
        }
      ]
    },
    {
      "cell_type": "code",
      "source": [
        "print(tpl.count(1))\n",
        "print(tpl.index(1))"
      ],
      "metadata": {
        "colab": {
          "base_uri": "https://localhost:8080/"
        },
        "id": "omAs9PG7HhrS",
        "outputId": "93c3c587-bfaf-42f6-e8fc-2795b394c475"
      },
      "execution_count": 39,
      "outputs": [
        {
          "output_type": "stream",
          "name": "stdout",
          "text": [
            "1\n",
            "0\n"
          ]
        }
      ]
    },
    {
      "cell_type": "code",
      "source": [
        "# packing tuple\n",
        "packed_tuple = 1,\"hello\",3.14\n",
        "print(packed_tuple)\n",
        "print(type(packed_tuple))"
      ],
      "metadata": {
        "colab": {
          "base_uri": "https://localhost:8080/"
        },
        "id": "c0rasCr5HhtS",
        "outputId": "937ec774-670e-47d1-c5f8-d58b72688e8e"
      },
      "execution_count": 40,
      "outputs": [
        {
          "output_type": "stream",
          "name": "stdout",
          "text": [
            "(1, 'hello', 3.14)\n",
            "<class 'tuple'>\n"
          ]
        }
      ]
    },
    {
      "cell_type": "code",
      "source": [
        "## unpacking tuple\n",
        "a,b,c = packed_tuple\n",
        "print(a)\n",
        "print(b)\n",
        "print(c)"
      ],
      "metadata": {
        "colab": {
          "base_uri": "https://localhost:8080/"
        },
        "id": "Z8bhxR_8Hhu6",
        "outputId": "5ce69dfe-b73c-4712-dda2-bab335d2ec09"
      },
      "execution_count": 42,
      "outputs": [
        {
          "output_type": "stream",
          "name": "stdout",
          "text": [
            "1\n",
            "hello\n",
            "3.14\n"
          ]
        }
      ]
    },
    {
      "cell_type": "code",
      "source": [
        "# Unpacking with *\n",
        "numbers = (1,2,3,4,5,6)\n",
        "a,b,*c = numbers # 1 element, 2 element, rest of the elements*\n",
        "print(a)\n",
        "print(b)\n",
        "print(c)"
      ],
      "metadata": {
        "colab": {
          "base_uri": "https://localhost:8080/"
        },
        "id": "sVeV9ym5I2rJ",
        "outputId": "6be3f78a-4a07-4c02-b900-a3ff36e78788"
      },
      "execution_count": 43,
      "outputs": [
        {
          "output_type": "stream",
          "name": "stdout",
          "text": [
            "1\n",
            "2\n",
            "[3, 4, 5, 6]\n"
          ]
        }
      ]
    },
    {
      "cell_type": "code",
      "source": [
        "## Nested list\n",
        "lst = [[1,2,3,4],[5,6,7,8],[9,\"hello\",3.14, True]]\n",
        "lst[0][0:2]"
      ],
      "metadata": {
        "colab": {
          "base_uri": "https://localhost:8080/"
        },
        "id": "QxYWxRidI2tR",
        "outputId": "10cdeb1a-e275-44f2-e588-eaf2ab45e526"
      },
      "execution_count": 45,
      "outputs": [
        {
          "output_type": "execute_result",
          "data": {
            "text/plain": [
              "[1, 2]"
            ]
          },
          "metadata": {},
          "execution_count": 45
        }
      ]
    },
    {
      "cell_type": "code",
      "source": [
        "#nested tuple\n",
        "nested_tuple = ((1,2,3), (\"a\", \"b\", \"c\"), (True, False))\n",
        "\n",
        "print(nested_tuple[0])\n",
        "print(nested_tuple[1][2])"
      ],
      "metadata": {
        "colab": {
          "base_uri": "https://localhost:8080/"
        },
        "id": "H6E6y7oFI2vJ",
        "outputId": "dac52c06-6744-45c4-9106-827182ab9cd3"
      },
      "execution_count": 46,
      "outputs": [
        {
          "output_type": "stream",
          "name": "stdout",
          "text": [
            "(1, 2, 3)\n",
            "c\n"
          ]
        }
      ]
    },
    {
      "cell_type": "code",
      "source": [
        "for sub_tuple in nested_tuple:\n",
        "    for item in sub_tuple:\n",
        "        print(item)"
      ],
      "metadata": {
        "colab": {
          "base_uri": "https://localhost:8080/"
        },
        "id": "uCIJ-Cc9KL-C",
        "outputId": "ce733b1f-d829-4949-a89b-c2edf0fe594a"
      },
      "execution_count": 48,
      "outputs": [
        {
          "output_type": "stream",
          "name": "stdout",
          "text": [
            "1\n",
            "2\n",
            "3\n",
            "a\n",
            "b\n",
            "c\n",
            "True\n",
            "False\n"
          ]
        }
      ]
    }
  ]
}